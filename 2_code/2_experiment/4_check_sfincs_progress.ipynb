{
 "cells": [
  {
   "cell_type": "code",
   "execution_count": null,
   "metadata": {},
   "outputs": [],
   "source": [
    "import pandas as pd\n",
    "from os.path import dirname, isfile, join\n",
    "\n",
    "# read simulation scenarios\n",
    "mdir = r\"../../3_models/sfincs\"\n",
    "rdir = r\"../../4_results\"\n",
    "scens = pd.read_csv(join(rdir, 'sim_SCEN_indep.csv'), index_col=0).rename(columns={'h_tsw_rp': 'h_rp'})\n",
    "scens"
   ]
  },
  {
   "cell_type": "code",
   "execution_count": null,
   "metadata": {},
   "outputs": [],
   "source": [
    "# check model simulation status\n",
    "import subprocess\n",
    "import os\n",
    "import glob\n",
    "from run_sfincs import postprocess\n",
    "from datetime import datetime, timedelta\n",
    "\n",
    "def check_finished(root):\n",
    "    finished = False\n",
    "    failed = False\n",
    "    v295 = False\n",
    "    fn_log = join(root, 'sfincs.log')\n",
    "    assert isfile(join(root, 'sfincs.inp'))\n",
    "    if isfile(fn_log):\n",
    "        mtime = os.path.getmtime(fn_log)\n",
    "        mtime = datetime.fromtimestamp(mtime)\n",
    "        mtime_str = mtime.strftime(\"%H:%M:%S\")\n",
    "        dt = datetime.now() - mtime\n",
    "        with open(fn_log, 'r') as f:\n",
    "            lines = f.readlines()\n",
    "            if len(lines) == 0:\n",
    "                print(f'RUNNING  UNIX: {root} {mtime_str}')\n",
    "                return finished\n",
    "            for l in lines:\n",
    "                # if 'Rev: 295' in l:\n",
    "                #     v295 = True\n",
    "                if 'Simulation stopped' in l:\n",
    "                    print(f'FAILED: {root}')\n",
    "                    failed = True\n",
    "                    break\n",
    "                elif 'Simulation is finished' in l:\n",
    "                    finished = True\n",
    "                    break\n",
    "        if not finished and dt > timedelta(seconds=3600):\n",
    "            print(f'OVERDUE: {root}')\n",
    "            failed = True\n",
    "        if failed:\n",
    "            os.rename(fn_log, join(root, 'sfincs.log.failed'))\n",
    "        elif finished and isfile(join(root, 'zsmax.dat')):\n",
    "            print(f'postprocessing {root}')\n",
    "            postprocess(root)\n",
    "        elif not finished:\n",
    "            print(f'RUNNING WINDOWS: {root} {mtime_str}')\n",
    "    if finished and v295:\n",
    "        os.rename(fn_log, join(root, 'sfincs.log.org'))\n",
    "        if isfile(join(root, 'gis', 'hmax.tif')):\n",
    "            os.rename(join(root, 'gis', 'hmax.tif'), join(root, 'gis', 'hmax_org.tif'))\n",
    "        if isfile(join(root, 'fig', 'hmax.png')):\n",
    "            os.rename(join(root, 'fig', 'hmax.png'), join(root, 'fig', 'hmax_org.png'))\n",
    "        finished = False\n",
    "    return finished\n",
    "\n",
    "# runs = [dirname(fn) for fn in glob.glob(join(mdir, '*', 'sfincs.inp')) if not check_finished(dirname(fn))]\n",
    "runs = [join(mdir, name) for name in scens['scen'] if not check_finished(join(mdir, name))]\n",
    "n = len(runs)\n",
    "print(n)"
   ]
  },
  {
   "cell_type": "code",
   "execution_count": null,
   "metadata": {},
   "outputs": [],
   "source": []
  }
 ],
 "metadata": {
  "interpreter": {
   "hash": "38648ff479392915c1a5d77722aa6edad827edf2098e3798b9c4282ba45e9fb7"
  },
  "kernelspec": {
   "display_name": "Python 3.9.0 ('compound_risk')",
   "language": "python",
   "name": "python3"
  },
  "language_info": {
   "codemirror_mode": {
    "name": "ipython",
    "version": 3
   },
   "file_extension": ".py",
   "mimetype": "text/x-python",
   "name": "python",
   "nbconvert_exporter": "python",
   "pygments_lexer": "ipython3",
   "version": "3.9.0"
  },
  "orig_nbformat": 4
 },
 "nbformat": 4,
 "nbformat_minor": 2
}
