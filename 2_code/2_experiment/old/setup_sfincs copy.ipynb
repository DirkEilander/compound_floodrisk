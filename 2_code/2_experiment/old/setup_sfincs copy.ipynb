{
 "cells": [
  {
   "cell_type": "code",
   "execution_count": 1,
   "id": "a52c6686",
   "metadata": {},
   "outputs": [],
   "source": [
    "import xarray as xr\n",
    "import numpy as np\n",
    "import pandas as pd\n",
    "import hydromt\n",
    "from os.path import join, basename, dirname\n",
    "import matplotlib.pyplot as plt\n",
    "import matplotlib as mpl\n",
    "from hydromt_sfincs import SfincsModel\n",
    "import subprocess\n",
    "import os\n",
    "import geopandas as gpd"
   ]
  },
  {
   "cell_type": "code",
   "execution_count": 2,
   "id": "e5d8fb18",
   "metadata": {},
   "outputs": [
    {
     "ename": "NameError",
     "evalue": "name 'rdir' is not defined",
     "output_type": "error",
     "traceback": [
      "\u001b[1;31m---------------------------------------------------------------------------\u001b[0m",
      "\u001b[1;31mNameError\u001b[0m                                 Traceback (most recent call last)",
      "\u001b[1;32mp:\\11205283-hydromt-floodmodelling\\compound_floodrisk_modelling\\2_code\\2_experiment\\setup_sfincs copy.ipynb Cell 2'\u001b[0m in \u001b[0;36m<module>\u001b[1;34m\u001b[0m\n\u001b[0;32m      <a href='vscode-notebook-cell:/p%3A/11205283-hydromt-floodmodelling/compound_floodrisk_modelling/2_code/2_experiment/setup_sfincs%20copy.ipynb#ch0000001?line=0'>1</a>\u001b[0m \u001b[39m# simulations\u001b[39;00m\n\u001b[1;32m----> <a href='vscode-notebook-cell:/p%3A/11205283-hydromt-floodmodelling/compound_floodrisk_modelling/2_code/2_experiment/setup_sfincs%20copy.ipynb#ch0000001?line=1'>2</a>\u001b[0m scens \u001b[39m=\u001b[39m pd\u001b[39m.\u001b[39mread_csv(join(rdir, \u001b[39m'\u001b[39m\u001b[39msim_SCEN.csv\u001b[39m\u001b[39m'\u001b[39m), index_col\u001b[39m=\u001b[39m\u001b[39m0\u001b[39m)\u001b[39m.\u001b[39mrename(columns\u001b[39m=\u001b[39m{\u001b[39m'\u001b[39m\u001b[39mh_tsw_rp\u001b[39m\u001b[39m'\u001b[39m: \u001b[39m'\u001b[39m\u001b[39mh_rp\u001b[39m\u001b[39m'\u001b[39m})\n\u001b[0;32m      <a href='vscode-notebook-cell:/p%3A/11205283-hydromt-floodmodelling/compound_floodrisk_modelling/2_code/2_experiment/setup_sfincs%20copy.ipynb#ch0000001?line=2'>3</a>\u001b[0m \u001b[39mprint\u001b[39m(\u001b[39mlen\u001b[39m(scens\u001b[39m.\u001b[39mindex))\n\u001b[0;32m      <a href='vscode-notebook-cell:/p%3A/11205283-hydromt-floodmodelling/compound_floodrisk_modelling/2_code/2_experiment/setup_sfincs%20copy.ipynb#ch0000001?line=3'>4</a>\u001b[0m scens[\u001b[39m500\u001b[39m:]\u001b[39m.\u001b[39mhead(\u001b[39m10\u001b[39m)\n",
      "\u001b[1;31mNameError\u001b[0m: name 'rdir' is not defined"
     ]
    }
   ],
   "source": [
    "# simulations\n",
    "scens = pd.read_csv(join(rdir, 'sim_SCEN.csv'), index_col=0).rename(columns={'h_tsw_rp': 'h_rp'})\n",
    "print(len(scens.index))\n",
    "scens[500:].head(10)"
   ]
  },
  {
   "cell_type": "code",
   "execution_count": 2,
   "id": "ed8d70ca",
   "metadata": {},
   "outputs": [],
   "source": [
    "# read events\n",
    "ddir = r'../../1_data/2_forcing'\n",
    "ds_q = xr.open_dataset(join(ddir, r'cama_discharge_beira_daily_events.nc'))\n",
    "ds_q = np.maximum(ds_q, ds_q.sel(rps=0).max())\n",
    "da_h = xr.open_dataarray(join(ddir, r'reanalysis_gtsm_v1_beira_extended_events.nc'))\n",
    "da_p = xr.open_dataarray(join(ddir, r'era5_precip_beira_hourly_spatialmean_events.nc'))\n",
    "events = dict(\n",
    "    h = da_h.reset_coords(drop=True),\n",
    "    qb = ds_q['qb'].reset_coords(drop=True),\n",
    "    qp = ds_q['qp'].reset_coords(drop=True),\n",
    "    p = da_p.reset_coords(drop=True),\n",
    ")"
   ]
  },
  {
   "cell_type": "code",
   "execution_count": 3,
   "id": "bc3fb9a1",
   "metadata": {},
   "outputs": [
    {
     "data": {
      "text/plain": [
       "{'qp': datetime.timedelta(days=1),\n",
       " 'p': datetime.timedelta(days=-3),\n",
       " 's': datetime.timedelta(days=-3),\n",
       " 'w': datetime.timedelta(days=-3),\n",
       " 'h': datetime.timedelta(days=-3),\n",
       " 'qb': datetime.timedelta(0)}"
      ]
     },
     "execution_count": 3,
     "metadata": {},
     "output_type": "execute_result"
    }
   ],
   "source": [
    "# lagtimes relative to qb\n",
    "from datetime import timedelta\n",
    "rdir = r'../../4_results'\n",
    "lagtimes = pd.read_csv(join(rdir, 'lagtimes.csv'), index_col=0)['lag'].to_dict()\n",
    "lagtimes = {k: timedelta(days=v) for k,v in lagtimes.items()}\n",
    "lagtimes['h'] = lagtimes['s']\n",
    "lagtimes['qb'] = timedelta(days=0)\n",
    "lagtimes"
   ]
  },
  {
   "cell_type": "code",
   "execution_count": null,
   "id": "3df60706",
   "metadata": {},
   "outputs": [],
   "source": [
    "from hydromt_sfincs.utils import parse_datetime, write_timeseries, write_inp\n",
    "\n",
    "tstart = '20200101 000000'\n",
    "tstop = '20200115 000000'\n",
    "tref = parse_datetime(tstart)\n",
    "t0 = tref + timedelta(days=7)\n",
    "\n",
    "def get_ts(dvar, rp, lagtimes=lagtimes, events=events):\n",
    "    if rp not in events[dvar].rps:\n",
    "        return\n",
    "    ts = events[dvar].sel(rps=rp).to_series()\n",
    "    ts.index += (lagtimes[dvar].total_seconds() / 3600)\n",
    "    ts.index = t0 + np.array([timedelta(hours=dt) for dt in ts.index.values])\n",
    "    dates = pd.date_range(tstart, tstop, freq=np.diff(ts.index.to_pydatetime())[0])\n",
    "    ts = ts.reindex(dates, fill_value=0)\n",
    "    return ts"
   ]
  },
  {
   "cell_type": "code",
   "execution_count": 4,
   "id": "16af6dad",
   "metadata": {},
   "outputs": [],
   "source": [
    "from typing import Tuple, Union\n",
    "from pathlib import Path\n",
    "\n",
    "def read_binary_output(\n",
    "    fn: Union[str, Path],\n",
    "    ind: np.ndarray,\n",
    "    timesteps: int,\n",
    "    shape: Tuple[int],\n",
    "    mv: float = -999.0,\n",
    "    dtype: str = \"f4\",\n",
    ") -> np.ndarray:\n",
    "    \"\"\"Read binary map.\n",
    "\n",
    "    Parameters\n",
    "    ----------\n",
    "    fn: str, Path\n",
    "        Path to map file.\n",
    "    ind: np.ndarray\n",
    "        1D array of flat index of binary maps.\n",
    "    timesteps: int\n",
    "        Numer of timesteps in the output file\n",
    "    shape: tuple of int\n",
    "        (nrow, ncol) shape of output map.\n",
    "    mv: int or float\n",
    "        missing value, by default -999.0.\n",
    "    dtype: str, np.dtype, optional\n",
    "        Data type, by default \"f4\".\n",
    "\n",
    "    Returns\n",
    "    -------\n",
    "    ind: np.ndarray\n",
    "        1D array of flat index of binary maps.\n",
    "    \"\"\"\n",
    "    assert ind.max() <= np.multiply(*shape)\n",
    "    nrow, ncol = shape\n",
    "    data = np.full((timesteps, ncol, nrow), mv, dtype=dtype)\n",
    "    with open(fn, 'r') as fid:\n",
    "        for it in range(timesteps):\n",
    "            d0 = np.full((ncol, nrow), mv, dtype=dtype)\n",
    "            d0.flat[ind] = np.fromfile(fid, dtype=dtype, count=ind.size+2)[1:-1]\n",
    "            data[it,:,:] = np.fliplr(d0)\n",
    "    return data.transpose(0,2,1)"
   ]
  },
  {
   "cell_type": "code",
   "execution_count": 5,
   "id": "982a7395",
   "metadata": {},
   "outputs": [],
   "source": [
    "from hydromt_sfincs import utils\n",
    "\n",
    "def postprocess(root, min_flddph=0):\n",
    "    # open model instance\n",
    "    mod = SfincsModel(root, mode='r')\n",
    "\n",
    "    # get model props\n",
    "    nrow, ncol = mod.config['nmax'], mod.config['mmax']\n",
    "    tstart, tstop = mod.get_model_time()\n",
    "    dt = timedelta(seconds=mod.config['dtmaxout'])\n",
    "    time = pd.date_range(tstart+dt, end=tstop, freq=dt)\n",
    "\n",
    "    # read zsmax\n",
    "    ind = utils.read_binary_map_index(join(root, mod.config['indexfile']))\n",
    "    da = xr.DataArray(\n",
    "        data = read_binary_output(join(root, 'zsmax.dat'), ind, time.size, (nrow, ncol)),\n",
    "        dims = ('timemax', 'y', 'x'),\n",
    "        coords = {'timemax': time, **mod.staticmaps.raster.coords}\n",
    "    )\n",
    "    da_dep = mod.staticmaps['dep']\n",
    "\n",
    "    # calculate hmax and write to raster\n",
    "    hmax = (da-da_dep).where(da!=-999,0).where(da_dep!=da_dep.raster.nodata)\n",
    "    hmax_tot = hmax.max('timemax')\n",
    "    \n",
    "    if not os.path.isfile(join(root, 'gis', 'hmax.tif')):\n",
    "        hmax_tot.raster.set_nodata(-999)\n",
    "        hmax_tot.raster.set_crs(mod.crs)\n",
    "        mod.set_results(hmax_tot.fillna(-999), 'hmax')\n",
    "        mod.write_raster('results.hmax')\n",
    "\n",
    "    # plot hmax\n",
    "    fig, ax = mod.plot_basemap(fn_out=None, variable='', geoms=[], plot_bounds=False, bmap='StamenTerrain')\n",
    "    hmax_tot.where(hmax_tot>min_flddph).plot(\n",
    "        ax=ax, cmap='viridis', vmin=min_flddph, vmax=3, cbar_kwargs=dict(shrink=0.5, label='flood depth [m]')\n",
    "    )\n",
    "    ax.set_title(os.path.basename(root))\n",
    "    if not os.path.isdir(join(root, 'figs')):\n",
    "        os.makedirs(join(root, 'figs'))\n",
    "    plt.savefig(join(root, 'figs', f'hmax.png'), dpi=150)\n",
    "    plt.close()\n",
    "\n",
    "    # remove output binary files\n",
    "    for fn in glob.glob(join(root, '*.dat')):\n",
    "        try:\n",
    "            os.unlink(fn)\n",
    "        except:\n",
    "            pass"
   ]
  },
  {
   "cell_type": "markdown",
   "id": "97f0829b",
   "metadata": {},
   "source": [
    "## prepare basemodel"
   ]
  },
  {
   "cell_type": "markdown",
   "id": "5c52d22d",
   "metadata": {},
   "source": [
    "Execute sfincs.bat in ../1_prepare"
   ]
  },
  {
   "cell_type": "markdown",
   "id": "f5e85645",
   "metadata": {},
   "source": [
    "## events\n"
   ]
  },
  {
   "cell_type": "code",
   "execution_count": 6,
   "id": "a0643411",
   "metadata": {},
   "outputs": [],
   "source": [
    "# read basemodel\n",
    "mdir = r\"../../3_models/sfincs\"\n",
    "basename = '00_base_riv'\n",
    "mod0 = SfincsModel(join(mdir, basename), mode='r+')"
   ]
  },
  {
   "cell_type": "code",
   "execution_count": null,
   "id": "c87d42b3",
   "metadata": {},
   "outputs": [],
   "source": [
    "# select buzi and pungwe rivers\n",
    "src = mod0.forcing['dis'].vector.to_gdf().loc[[1,4],:]\n",
    "# h boundary location based on gtsm output location\n",
    "bnd = gpd.GeoDataFrame(\n",
    "    index=np.atleast_1d(da_h['stations'].values),\n",
    "    geometry=gpd.points_from_xy(\n",
    "        np.atleast_1d(da_h['station_x_coordinate'].values), \n",
    "        np.atleast_1d(da_h['station_y_coordinate'].values)\n",
    "    ),\n",
    "    crs=4326\n",
    ").to_crs(src.crs)"
   ]
  },
  {
   "cell_type": "code",
   "execution_count": null,
   "id": "0dd2a708",
   "metadata": {},
   "outputs": [],
   "source": [
    "# modify config\n",
    "config = mod0.config.copy()\n",
    "config.update({\n",
    "    'tref': tstart, \n",
    "    'tstart': tstart, \n",
    "    'tstop': tstop, \n",
    "    'outputformat': 'bin',\n",
    "    'dtmaxout': 86400,\n",
    "    'dtwnd': 600,\n",
    "    'alpha': 0.7,\n",
    "    'precipfile': 'sfincs.precip',\n",
    "    'bzsfile': 'sfincs.bzs',\n",
    "    'bndfile': 'sfincs.bnd',\n",
    "    'inifile': '../qb000_qp000_h000_p000/sfincs.zsini'\n",
    "})\n",
    "config.pop('netamprfile',None)\n",
    "# config"
   ]
  },
  {
   "cell_type": "code",
   "execution_count": null,
   "id": "86225197",
   "metadata": {},
   "outputs": [],
   "source": [
    "for i, run in scens.iterrows():\n",
    "    name = run['scen']\n",
    "    root = join(mdir, name)\n",
    "\n",
    "    if os.path.isfile(join(root, 'sfincs.inp')): continue\n",
    "    print(f'>>{name}')\n",
    "    # mod0 = SfincsModel(join(mdir, basename), mode='r+')\n",
    "    mod0.set_root(root, mode='w')\n",
    "    mod0.setup_config(**config)\n",
    "    mod0.config.pop('restartfile', None)\n",
    "    if np.all(run[:4]==0):\n",
    "        mod0.setup_config(restartfile=mod0.config.pop('inifile'))\n",
    "\n",
    "    qb0 = get_ts('qb', run['qb_rp']).rename(1)\n",
    "    qp0 = get_ts('qp', run['qp_rp']).rename(4)\n",
    "    q0 = pd.concat([qb0, qp0], axis=1)\n",
    "    mod0.set_forcing_1d(ts=q0, xy=src, name='discharge')\n",
    "    \n",
    "    h0 = get_ts('h', run['h_rp']).rename(bnd.index.item()).to_frame()\n",
    "    mod0.set_forcing_1d(ts=h0, xy=bnd, name='waterlevel')\n",
    "    \n",
    "    p0 = get_ts('p', run['p_rp'])\n",
    "    if p0 is not None:\n",
    "        mod0.set_forcing_1d(ts=p0, xy=None, name='precip')\n",
    "    else:\n",
    "        mod0.forcing.pop('precip', None)\n",
    "        mod0.config.pop('precipfile')\n",
    "    \n",
    "    mod0.write_forcing()\n",
    "    mod0.write_config(rel_path=f'../{basename}')\n",
    "    \n",
    "    # mod0.plot_forcing()\n",
    "    # plt.close('all')\n",
    "    # mod0.plot_basemap()\n",
    "    # break"
   ]
  },
  {
   "cell_type": "code",
   "execution_count": 7,
   "id": "b01425ed",
   "metadata": {},
   "outputs": [
    {
     "ename": "PermissionError",
     "evalue": "[WinError 32] The process cannot access the file because it is being used by another process: '../../3_models/sfincs\\\\qb002_qp025_h002_p002\\\\sfincs.log' -> '../../3_models/sfincs\\\\qb002_qp025_h002_p002\\\\sfincs.log.failed'",
     "output_type": "error",
     "traceback": [
      "\u001b[1;31m---------------------------------------------------------------------------\u001b[0m",
      "\u001b[1;31mPermissionError\u001b[0m                           Traceback (most recent call last)",
      "\u001b[1;32mp:\\11205283-hydromt-floodmodelling\\compound_floodrisk_modelling\\2_code\\2_experiment\\setup_sfincs copy.ipynb Cell 15'\u001b[0m in \u001b[0;36m<module>\u001b[1;34m\u001b[0m\n\u001b[0;32m     <a href='vscode-notebook-cell:/p%3A/11205283-hydromt-floodmodelling/compound_floodrisk_modelling/2_code/2_experiment/setup_sfincs%20copy.ipynb#ch0000014?line=19'>20</a>\u001b[0m             os\u001b[39m.\u001b[39mrename(join(root, \u001b[39m'\u001b[39m\u001b[39msfincs.log\u001b[39m\u001b[39m'\u001b[39m), join(root, \u001b[39m'\u001b[39m\u001b[39msfincs.log.failed\u001b[39m\u001b[39m'\u001b[39m))\n\u001b[0;32m     <a href='vscode-notebook-cell:/p%3A/11205283-hydromt-floodmodelling/compound_floodrisk_modelling/2_code/2_experiment/setup_sfincs%20copy.ipynb#ch0000014?line=20'>21</a>\u001b[0m     \u001b[39mreturn\u001b[39;00m finished\n\u001b[1;32m---> <a href='vscode-notebook-cell:/p%3A/11205283-hydromt-floodmodelling/compound_floodrisk_modelling/2_code/2_experiment/setup_sfincs%20copy.ipynb#ch0000014?line=22'>23</a>\u001b[0m runs \u001b[39m=\u001b[39m [dirname(fn) \u001b[39mfor\u001b[39;00m fn \u001b[39min\u001b[39;00m glob\u001b[39m.\u001b[39mglob(join(mdir, \u001b[39m'\u001b[39m\u001b[39m*\u001b[39m\u001b[39m'\u001b[39m, \u001b[39m'\u001b[39m\u001b[39msfincs.inp\u001b[39m\u001b[39m'\u001b[39m)) \u001b[39mif\u001b[39;00m \u001b[39mnot\u001b[39;00m check_finished(dirname(fn))]\n\u001b[0;32m     <a href='vscode-notebook-cell:/p%3A/11205283-hydromt-floodmodelling/compound_floodrisk_modelling/2_code/2_experiment/setup_sfincs%20copy.ipynb#ch0000014?line=23'>24</a>\u001b[0m n \u001b[39m=\u001b[39m \u001b[39mlen\u001b[39m(runs)\n\u001b[0;32m     <a href='vscode-notebook-cell:/p%3A/11205283-hydromt-floodmodelling/compound_floodrisk_modelling/2_code/2_experiment/setup_sfincs%20copy.ipynb#ch0000014?line=24'>25</a>\u001b[0m \u001b[39mprint\u001b[39m(n)\n",
      "\u001b[1;32mp:\\11205283-hydromt-floodmodelling\\compound_floodrisk_modelling\\2_code\\2_experiment\\setup_sfincs copy.ipynb Cell 15'\u001b[0m in \u001b[0;36m<listcomp>\u001b[1;34m(.0)\u001b[0m\n\u001b[0;32m     <a href='vscode-notebook-cell:/p%3A/11205283-hydromt-floodmodelling/compound_floodrisk_modelling/2_code/2_experiment/setup_sfincs%20copy.ipynb#ch0000014?line=19'>20</a>\u001b[0m             os\u001b[39m.\u001b[39mrename(join(root, \u001b[39m'\u001b[39m\u001b[39msfincs.log\u001b[39m\u001b[39m'\u001b[39m), join(root, \u001b[39m'\u001b[39m\u001b[39msfincs.log.failed\u001b[39m\u001b[39m'\u001b[39m))\n\u001b[0;32m     <a href='vscode-notebook-cell:/p%3A/11205283-hydromt-floodmodelling/compound_floodrisk_modelling/2_code/2_experiment/setup_sfincs%20copy.ipynb#ch0000014?line=20'>21</a>\u001b[0m     \u001b[39mreturn\u001b[39;00m finished\n\u001b[1;32m---> <a href='vscode-notebook-cell:/p%3A/11205283-hydromt-floodmodelling/compound_floodrisk_modelling/2_code/2_experiment/setup_sfincs%20copy.ipynb#ch0000014?line=22'>23</a>\u001b[0m runs \u001b[39m=\u001b[39m [dirname(fn) \u001b[39mfor\u001b[39;00m fn \u001b[39min\u001b[39;00m glob\u001b[39m.\u001b[39mglob(join(mdir, \u001b[39m'\u001b[39m\u001b[39m*\u001b[39m\u001b[39m'\u001b[39m, \u001b[39m'\u001b[39m\u001b[39msfincs.inp\u001b[39m\u001b[39m'\u001b[39m)) \u001b[39mif\u001b[39;00m \u001b[39mnot\u001b[39;00m check_finished(dirname(fn))]\n\u001b[0;32m     <a href='vscode-notebook-cell:/p%3A/11205283-hydromt-floodmodelling/compound_floodrisk_modelling/2_code/2_experiment/setup_sfincs%20copy.ipynb#ch0000014?line=23'>24</a>\u001b[0m n \u001b[39m=\u001b[39m \u001b[39mlen\u001b[39m(runs)\n\u001b[0;32m     <a href='vscode-notebook-cell:/p%3A/11205283-hydromt-floodmodelling/compound_floodrisk_modelling/2_code/2_experiment/setup_sfincs%20copy.ipynb#ch0000014?line=24'>25</a>\u001b[0m \u001b[39mprint\u001b[39m(n)\n",
      "\u001b[1;32mp:\\11205283-hydromt-floodmodelling\\compound_floodrisk_modelling\\2_code\\2_experiment\\setup_sfincs copy.ipynb Cell 15'\u001b[0m in \u001b[0;36mcheck_finished\u001b[1;34m(root)\u001b[0m\n\u001b[0;32m     <a href='vscode-notebook-cell:/p%3A/11205283-hydromt-floodmodelling/compound_floodrisk_modelling/2_code/2_experiment/setup_sfincs%20copy.ipynb#ch0000014?line=17'>18</a>\u001b[0m                 \u001b[39mbreak\u001b[39;00m\n\u001b[0;32m     <a href='vscode-notebook-cell:/p%3A/11205283-hydromt-floodmodelling/compound_floodrisk_modelling/2_code/2_experiment/setup_sfincs%20copy.ipynb#ch0000014?line=18'>19</a>\u001b[0m     \u001b[39mif\u001b[39;00m \u001b[39mnot\u001b[39;00m finished:\n\u001b[1;32m---> <a href='vscode-notebook-cell:/p%3A/11205283-hydromt-floodmodelling/compound_floodrisk_modelling/2_code/2_experiment/setup_sfincs%20copy.ipynb#ch0000014?line=19'>20</a>\u001b[0m         os\u001b[39m.\u001b[39;49mrename(join(root, \u001b[39m'\u001b[39;49m\u001b[39msfincs.log\u001b[39;49m\u001b[39m'\u001b[39;49m), join(root, \u001b[39m'\u001b[39;49m\u001b[39msfincs.log.failed\u001b[39;49m\u001b[39m'\u001b[39;49m))\n\u001b[0;32m     <a href='vscode-notebook-cell:/p%3A/11205283-hydromt-floodmodelling/compound_floodrisk_modelling/2_code/2_experiment/setup_sfincs%20copy.ipynb#ch0000014?line=20'>21</a>\u001b[0m \u001b[39mreturn\u001b[39;00m finished\n",
      "\u001b[1;31mPermissionError\u001b[0m: [WinError 32] The process cannot access the file because it is being used by another process: '../../3_models/sfincs\\\\qb002_qp025_h002_p002\\\\sfincs.log' -> '../../3_models/sfincs\\\\qb002_qp025_h002_p002\\\\sfincs.log.failed'"
     ]
    }
   ],
   "source": [
    "# run models\n",
    "import subprocess\n",
    "from os.path import dirname, isfile\n",
    "import glob\n",
    "\n",
    "fn_exe = \"p:/11205283-hydromt-floodmodelling/02_models/bin/subgrid_openacc_11_rev295_16092021/sfincs.exe\"\n",
    "\n",
    "def check_finished(root):\n",
    "    finished = False\n",
    "    failed = False\n",
    "    if isfile(join(root, 'sfincs.log')):\n",
    "        with open(join(root, 'sfincs.log'), 'r') as f:\n",
    "            for l in f.readlines():\n",
    "                if 'Simulation stopped' in l:\n",
    "                    print(f'FAILED: {root}')\n",
    "                    failed = True\n",
    "                    break\n",
    "                elif 'Simulation is finished' in l:\n",
    "                    finished = True\n",
    "                    break\n",
    "        if failed:\n",
    "            os.rename(join(root, 'sfincs.log'), join(root, 'sfincs.log.failed'))\n",
    "    return finished\n",
    "\n",
    "runs = [dirname(fn) for fn in glob.glob(join(mdir, '*', 'sfincs.inp')) if not check_finished(dirname(fn))]\n",
    "n = len(runs)\n",
    "print(n)\n",
    "for i, run in scens.iterrows():\n",
    "    name = run['scen']\n",
    "    root = join(mdir, name)\n",
    "    if root not in runs or isfile(join(root, \"sfincs.log\")): \n",
    "        continue\n",
    "    # mod = SfincsModel(root, 'r+')\n",
    "    # mod.read_config()\n",
    "    # mod.setup_config({'dtout':86400})\n",
    "    # mod.write_config()\n",
    "    print(f'{i+1:d}: {name}')\n",
    "    with open(join(root, \"sfincs.log\"), 'w') as f:\n",
    "        p = subprocess.Popen([fn_exe], stdout=f, cwd=root)\n",
    "        %time p.wait()\n",
    "        postprocess(root)"
   ]
  },
  {
   "cell_type": "code",
   "execution_count": null,
   "id": "4747776e",
   "metadata": {},
   "outputs": [],
   "source": []
  }
 ],
 "metadata": {
  "interpreter": {
   "hash": "3808d5b5b54949c7a0a707a38b0a689040fa9c90ab139a050e41373880719ab1"
  },
  "kernelspec": {
   "display_name": "Python 3.10.2 ('hydromt-dev')",
   "language": "python",
   "name": "python3"
  },
  "language_info": {
   "codemirror_mode": {
    "name": "ipython",
    "version": 3
   },
   "file_extension": ".py",
   "mimetype": "text/x-python",
   "name": "python",
   "nbconvert_exporter": "python",
   "pygments_lexer": "ipython3",
   "version": "3.10.2"
  }
 },
 "nbformat": 4,
 "nbformat_minor": 5
}
