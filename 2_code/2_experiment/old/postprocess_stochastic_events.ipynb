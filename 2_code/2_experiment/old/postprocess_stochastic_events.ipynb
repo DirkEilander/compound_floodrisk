{
 "cells": [
  {
   "cell_type": "code",
   "execution_count": null,
   "id": "e4540dc9",
   "metadata": {},
   "outputs": [],
   "source": [
    "import pandas as pd\n",
    "import xarray as xr\n",
    "from stats_eva import get_frozen_dist\n",
    "import numpy as np"
   ]
  },
  {
   "cell_type": "code",
   "execution_count": null,
   "id": "416bf2c4",
   "metadata": {},
   "outputs": [],
   "source": [
    "fn0 = r'../02_data/modelled_dataset_5000_years_magObs_timeObs.csv'\n",
    "df = pd.read_csv(fn0, index_col=0).rename(columns={'1':'qb', '4':'qp', 'precip':'p', 'WSL':'h'})\n",
    "print(df.index.size)"
   ]
  },
  {
   "cell_type": "code",
   "execution_count": null,
   "id": "ca7d09fc",
   "metadata": {},
   "outputs": [],
   "source": [
    "# discharge\n",
    "fn = r'../02_data/events/cama_discharge_beira_daily_eva.nc' \n",
    "ds = xr.open_dataset(fn)\n",
    "\n",
    "ds_q1 = ds.sel(index=1)\n",
    "dist_qb = get_frozen_dist(ds_q1['parameters'].values, ds_q1['distribution'].item())\n",
    "df['qb_rp'] = (1/dist_qb.sf(df['qb']))\n",
    "df['qb_rp'] = np.where(df['qb']<dist_qp.isf(1/1.01), 1, df['qb_rp'])  # fix non-extrems to rp=1\n",
    "\n",
    "ds_q4 = ds.sel(index=4)\n",
    "dist_qp = get_frozen_dist(ds_q4['parameters'].values, ds_q4['distribution'].item())\n",
    "df['qp_rp'] = (1/dist_qp.sf(df['qp']))\n",
    "df['qp_rp'] = np.where(df['qp']<dist_qp.isf(1/1.01), 1, df['qp_rp']) # fix non-extrems to rp=1\n",
    "\n",
    "# precip\n",
    "fn = r'../02_data/events/era5_precip_beira_hourly_spatialmean_48hr_eva.nc' \n",
    "ds_p = xr.open_dataset(fn).sel(duration=24)\n",
    "dist_p = get_frozen_dist(ds_p['parameters'].values[-2:], ds_p['distribution'].item())\n",
    "df['p_rp'] = (1/dist_p.sf(df['p']))\n",
    "df['p_rp'] = np.where(df['p']<dist_p.isf(1/1.01), 1, df['p_rp']) # fix non-extrems to rp=1\n",
    "\n",
    "# wsl\n",
    "df_coastrp = pd.read_csv(r'../01_forcing/annual_T_convolution_coastrp_local.csv', index_col=0)\n",
    "df['h_rp'] = np.interp(df['h'], df_coastrp['local_coastrp'], df_coastrp.index)\n",
    "df['h_rp'] = np.where(df['h']<df_coastrp['local_coastrp'].values[0], 1, df['h_rp']) # fix non-extrems to rp=1\n",
    "\n",
    "# limit to rp 500 to avoid extrapolation later\n",
    "df[['h_rp', 'p_rp', 'qb_rp', 'qp_rp']] = np.minimum(500, df[['h_rp', 'p_rp', 'qb_rp', 'qp_rp']])\n",
    "# df.to_csv(fn0.replace('.csv', '_rp.csv'))\n",
    "df.head()"
   ]
  },
  {
   "cell_type": "code",
   "execution_count": null,
   "id": "acdbb2cc",
   "metadata": {},
   "outputs": [],
   "source": [
    "# get all scenarios used for linear interpolating damages\n",
    "rps = np.array([1,2,5,10,50,100,500], dtype=int)\n",
    "cols = ['qb_rp', 'qp_rp', 'p_rp', 'h_rp']\n",
    "scens = []\n",
    "\n",
    "values = df.loc[:,cols].values\n",
    "for event in values:\n",
    "    rps_lst = []\n",
    "    for rp in event:\n",
    "        if rp in rps:\n",
    "            rps_lst.append([int(rp), int(rp)])\n",
    "        else:\n",
    "            rps_lst.append([rps[rps<rp][-1], rps[rps>rp][0]])\n",
    "    for rps0 in zip(*rps_lst):\n",
    "        scens.append(list(rps0))\n",
    "# # include univariate\n",
    "# rps0 = np.zeros(4, dtype=int)\n",
    "# for i in range(4):\n",
    "#     for rp in rps[1:]:\n",
    "#         _rps = rps0.tolist()\n",
    "#         _rps[i] = rp\n",
    "#         scens.append(_rps)\n",
    "# # include full dependence\n",
    "# for rp in rps:\n",
    "#     scens.append(np.full(4, rp, dtype=int).tolist())\n",
    "##\n",
    "df_scen = pd.DataFrame(data=np.vstack(scens), columns=cols).value_counts().rename('count').reset_index()\n",
    "df_scen['scen'] = [\n",
    "    f\"qb{qb_rp:03d}_qp{qp_rp:03d}_h{h_rp:03d}_p{p_rp:03d}\" \n",
    "    for i, (qb_rp, qp_rp, p_rp, h_rp) in df_scen[cols].iterrows()\n",
    "]\n",
    "df_scen\n",
    "print(df_scen.index.size)\n",
    "df_scen.to_csv(fn0.replace('.csv', '_scenCount.csv'))\n",
    "df_scen.sort_values('count', ascending=False).head()"
   ]
  },
  {
   "cell_type": "code",
   "execution_count": null,
   "id": "b8bd0dca",
   "metadata": {},
   "outputs": [],
   "source": [
    "(df[['h_rp', 'p_rp', 'qb_rp', 'qp_rp']]>500).sum()"
   ]
  },
  {
   "cell_type": "code",
   "execution_count": null,
   "id": "fa747c8c",
   "metadata": {},
   "outputs": [],
   "source": [
    "fn = r'../02_data/flood_impact.csv'\n",
    "df_flood = pd.read_csv(fn, index_col=0)\n",
    "df_flood[['h_rp', 'p_rp', 'qb_rp', 'qp_rp']] = np.maximum(1, df_flood[['h_rp', 'p_rp', 'qb_rp', 'qp_rp']])\n",
    "df_flood = df_flood.reset_index()\n",
    "\n",
    "# transform rp to normal values\n",
    "df_flood['qb'] = dist_qb.isf(1/np.maximum(1.01, df_flood['qb_rp']))\n",
    "df_flood['qp'] = dist_qp.isf(1/np.maximum(1.01, df_flood['qp_rp']))\n",
    "df_flood['p'] = dist_p.isf(1/np.maximum(1.01, df_flood['p_rp']))\n",
    "df_flood['h'] = np.interp(df_flood['h_rp'], df_coastrp.index, df_coastrp['local_coastrp'])\n",
    "\n",
    "df_flood.head()"
   ]
  }
 ],
 "metadata": {
  "kernelspec": {
   "display_name": "Python 3",
   "language": "python",
   "name": "python3"
  },
  "language_info": {
   "codemirror_mode": {
    "name": "ipython",
    "version": 3
   },
   "file_extension": ".py",
   "mimetype": "text/x-python",
   "name": "python",
   "nbconvert_exporter": "python",
   "pygments_lexer": "ipython3",
   "version": "3.9.4"
  }
 },
 "nbformat": 4,
 "nbformat_minor": 5
}
