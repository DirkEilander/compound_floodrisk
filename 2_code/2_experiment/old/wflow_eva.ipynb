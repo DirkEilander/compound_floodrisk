{
 "cells": [
  {
   "cell_type": "code",
   "execution_count": null,
   "metadata": {},
   "outputs": [],
   "source": [
    "from hydromt_wflow import WflowModel\n",
    "from hydromt_sfincs import SfincsModel\n",
    "import xarray as xr\n",
    "from os.path import join, isfile\n"
   ]
  },
  {
   "cell_type": "code",
   "execution_count": null,
   "metadata": {},
   "outputs": [],
   "source": [
    "mod_sfincs = SfincsModel(r'../../3_models/sfincs/00_base', mode='r')\n",
    "gdf_src = mod_sfincs.staticgeoms['src_snapped']"
   ]
  },
  {
   "cell_type": "code",
   "execution_count": null,
   "metadata": {},
   "outputs": [],
   "source": [
    "postfix = '_vito_ksath1000' #'_vito_chirps'\n",
    "mod = WflowModel(r'../../3_models/wflow', config_fn=f'wflow_sbm{postfix}.toml', mode='r')\n",
    "ds_src = mod.staticmaps.raster.sample(gdf_src).load()\n",
    "fn_q = join(mod.root, mod.config['output']['path'].replace('.nc', '_src.nc'))\n",
    "if isfile(fn_q):\n",
    "    da_q = xr.open_dataarray(fn_q)\n",
    "else:\n",
    "    da_q = mod.results['output']['q_river'].raster.sample(gdf_src)\n",
    "    da_q.to_netcdf(fn_q)"
   ]
  },
  {
   "cell_type": "code",
   "execution_count": null,
   "metadata": {},
   "outputs": [],
   "source": [
    "from eva import plot_return_values, eva_block_maxima\n",
    "import matplotlib.pyplot as plt\n",
    "period='AS-AUG'\n",
    "\n",
    "ds_q_eva = eva_block_maxima(\n",
    "    da_q,\n",
    "    period = period,\n",
    "    min_dist = 14,\n",
    ")\n",
    "\n",
    "ds0 = ds_q_eva.isel(index=0)\n",
    "plot_return_values(\n",
    "    ds0['peaks'],\n",
    "    ds0['parameters'],\n",
    "    ds0['distribution'].item(),\n",
    ")\n",
    "fn_fig = join(mod.root, f'eva_index{ds0.index.item()}{postfix}.png')\n",
    "plt.savefig(fn_fig, bbox_inches='tight', dpi=225)"
   ]
  },
  {
   "cell_type": "code",
   "execution_count": null,
   "metadata": {},
   "outputs": [],
   "source": [
    "events = {\n",
    "    'idai': ('20190310', '20190330'),\n",
    "    'eloise': ('20210110', '20210131')\n",
    "}\n",
    "for name, dates in events.items():\n",
    "    da_q.sel(time=slice(*dates)).to_series().unstack().plot()\n",
    "    fn_fig = join(mod.root, f'{name}{postfix}.png')\n",
    "    plt.savefig(fn_fig, bbox_inches='tight', dpi=225)"
   ]
  },
  {
   "cell_type": "code",
   "execution_count": null,
   "metadata": {},
   "outputs": [],
   "source": [
    "rm = {'x_out': 'x', 'y_out': 'y', 'wflow_uparea': 'uparea'}\n",
    "gdf_q2 = xr.merge([\n",
    "    ds_src[rm.keys()].rename(rm).reset_coords(drop=True),\n",
    "    ds_q_eva['return_values'].sel(rps=2).rename('Q2').reset_coords(drop=True),\n",
    "]).vector.to_gdf()\n",
    "gdf_q2.set_crs(ds_src.raster.crs)\n",
    "gdf_q2.to_file(join(mod_sfincs.root, 'gis', f'src_snapped_q2{postfix}.geojson'), driver='GeoJSON')"
   ]
  },
  {
   "cell_type": "code",
   "execution_count": null,
   "metadata": {},
   "outputs": [],
   "source": []
  }
 ],
 "metadata": {
  "interpreter": {
   "hash": "688a12aaff51d3ef71993f7ebede17ccae79b4aba2f74e006d22f13d19a0bc19"
  },
  "kernelspec": {
   "display_name": "Python 3.9.0 ('compound_risk')",
   "language": "python",
   "name": "python3"
  },
  "language_info": {
   "codemirror_mode": {
    "name": "ipython",
    "version": 3
   },
   "file_extension": ".py",
   "mimetype": "text/x-python",
   "name": "python",
   "nbconvert_exporter": "python",
   "pygments_lexer": "ipython3",
   "version": "3.9.0"
  },
  "orig_nbformat": 4
 },
 "nbformat": 4,
 "nbformat_minor": 2
}
